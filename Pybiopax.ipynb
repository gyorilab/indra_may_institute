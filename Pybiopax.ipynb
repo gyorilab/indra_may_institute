{
 "cells": [
  {
   "cell_type": "markdown",
   "id": "9f9b7e66-acf6-443a-a729-a67622b5931f",
   "metadata": {},
   "source": [
    "# Hands on: Interacting with human-curated networks in pathway databases"
   ]
  },
  {
   "cell_type": "code",
   "execution_count": 8,
   "id": "505a7b3f-bf79-42ff-a82a-8c2e1277a304",
   "metadata": {},
   "outputs": [
    {
     "name": "stdout",
     "output_type": "stream",
     "text": [
      "\u001b[31mERROR: pip's dependency resolver does not currently take into account all the packages that are installed. This behaviour is the source of the following dependency conflicts.\n",
      "conda-repo-cli 1.0.75 requires requests_mock, which is not installed.\n",
      "streamlit 1.30.0 requires pandas<3,>=1.3.0, but you have pandas 1.2.5 which is incompatible.\n",
      "conda-repo-cli 1.0.75 requires clyent==1.2.1, but you have clyent 1.2.2 which is incompatible.\n",
      "xarray 2023.6.0 requires pandas>=1.4, but you have pandas 1.2.5 which is incompatible.\u001b[0m\u001b[31m\n",
      "\u001b[0m"
     ]
    }
   ],
   "source": [
    "!pip install -q -r requirements.txt"
   ]
  },
  {
   "cell_type": "markdown",
   "id": "1f0c61ae-e8ff-440f-a5c7-7f9fb9e74ba0",
   "metadata": {},
   "source": [
    "## 1. Introduction"
   ]
  },
  {
   "cell_type": "markdown",
   "id": "fc9b0fe1-9467-4b53-9166-5cd064b8c1e1",
   "metadata": {},
   "source": [
    "### Recap - Example Dataset"
   ]
  },
  {
   "cell_type": "markdown",
   "id": "3492763c-f6b9-492c-bd8f-047089c8ec3c",
   "metadata": {},
   "source": [
    "We use an example dataset produced from an MSstats differential abundance analysis.  This dataset is a small molecule dataset with known inhibition targets.  It includes 8 small molecule inhibitors and a control DMSO holdout. "
   ]
  },
  {
   "cell_type": "code",
   "execution_count": 2,
   "id": "9b84c8d6-faaf-46e2-a190-98a7b17a659c",
   "metadata": {},
   "outputs": [
    {
     "data": {
      "text/html": [
       "<div>\n",
       "<style scoped>\n",
       "    .dataframe tbody tr th:only-of-type {\n",
       "        vertical-align: middle;\n",
       "    }\n",
       "\n",
       "    .dataframe tbody tr th {\n",
       "        vertical-align: top;\n",
       "    }\n",
       "\n",
       "    .dataframe thead th {\n",
       "        text-align: right;\n",
       "    }\n",
       "</style>\n",
       "<table border=\"1\" class=\"dataframe\">\n",
       "  <thead>\n",
       "    <tr style=\"text-align: right;\">\n",
       "      <th></th>\n",
       "      <th>RUN</th>\n",
       "      <th>Protein</th>\n",
       "      <th>LogIntensities</th>\n",
       "      <th>originalRUN</th>\n",
       "      <th>GROUP</th>\n",
       "      <th>SUBJECT</th>\n",
       "      <th>TotalGroupMeasurements</th>\n",
       "      <th>NumMeasuredFeature</th>\n",
       "      <th>MissingPercentage</th>\n",
       "      <th>more50missing</th>\n",
       "      <th>NumImputedFeature</th>\n",
       "    </tr>\n",
       "  </thead>\n",
       "  <tbody>\n",
       "    <tr>\n",
       "      <th>0</th>\n",
       "      <td>1</td>\n",
       "      <td>1433B_HUMAN</td>\n",
       "      <td>12.873423</td>\n",
       "      <td>230719_THP-1_Chrom_end2end_Plate1_DMSO_A02_DIA</td>\n",
       "      <td>DMSO</td>\n",
       "      <td>2</td>\n",
       "      <td>1210</td>\n",
       "      <td>10</td>\n",
       "      <td>0.0</td>\n",
       "      <td>False</td>\n",
       "      <td>0</td>\n",
       "    </tr>\n",
       "    <tr>\n",
       "      <th>1</th>\n",
       "      <td>2</td>\n",
       "      <td>1433B_HUMAN</td>\n",
       "      <td>12.866217</td>\n",
       "      <td>230719_THP-1_Chrom_end2end_Plate1_DMSO_A05_DIA</td>\n",
       "      <td>DMSO</td>\n",
       "      <td>5</td>\n",
       "      <td>1210</td>\n",
       "      <td>10</td>\n",
       "      <td>0.0</td>\n",
       "      <td>False</td>\n",
       "      <td>0</td>\n",
       "    </tr>\n",
       "    <tr>\n",
       "      <th>2</th>\n",
       "      <td>3</td>\n",
       "      <td>1433B_HUMAN</td>\n",
       "      <td>12.686827</td>\n",
       "      <td>230719_THP-1_Chrom_end2end_Plate1_DMSO_A10_DIA</td>\n",
       "      <td>DMSO</td>\n",
       "      <td>10</td>\n",
       "      <td>1210</td>\n",
       "      <td>10</td>\n",
       "      <td>0.0</td>\n",
       "      <td>False</td>\n",
       "      <td>0</td>\n",
       "    </tr>\n",
       "    <tr>\n",
       "      <th>3</th>\n",
       "      <td>4</td>\n",
       "      <td>1433B_HUMAN</td>\n",
       "      <td>12.625462</td>\n",
       "      <td>230719_THP-1_Chrom_end2end_Plate1_DMSO_A12_DIA</td>\n",
       "      <td>DMSO</td>\n",
       "      <td>12</td>\n",
       "      <td>1210</td>\n",
       "      <td>10</td>\n",
       "      <td>0.0</td>\n",
       "      <td>False</td>\n",
       "      <td>0</td>\n",
       "    </tr>\n",
       "    <tr>\n",
       "      <th>4</th>\n",
       "      <td>5</td>\n",
       "      <td>1433B_HUMAN</td>\n",
       "      <td>12.538365</td>\n",
       "      <td>230719_THP-1_Chrom_end2end_Plate1_DMSO_B01_DIA</td>\n",
       "      <td>DMSO</td>\n",
       "      <td>13</td>\n",
       "      <td>1210</td>\n",
       "      <td>10</td>\n",
       "      <td>0.0</td>\n",
       "      <td>False</td>\n",
       "      <td>0</td>\n",
       "    </tr>\n",
       "    <tr>\n",
       "      <th>...</th>\n",
       "      <td>...</td>\n",
       "      <td>...</td>\n",
       "      <td>...</td>\n",
       "      <td>...</td>\n",
       "      <td>...</td>\n",
       "      <td>...</td>\n",
       "      <td>...</td>\n",
       "      <td>...</td>\n",
       "      <td>...</td>\n",
       "      <td>...</td>\n",
       "      <td>...</td>\n",
       "    </tr>\n",
       "    <tr>\n",
       "      <th>1189821</th>\n",
       "      <td>266</td>\n",
       "      <td>ZZZ3_HUMAN</td>\n",
       "      <td>10.384438</td>\n",
       "      <td>230719_THP-1_Chrom_end2end_Plate3_DMSO_A10</td>\n",
       "      <td>VTP50469</td>\n",
       "      <td>202</td>\n",
       "      <td>170</td>\n",
       "      <td>10</td>\n",
       "      <td>0.0</td>\n",
       "      <td>False</td>\n",
       "      <td>0</td>\n",
       "    </tr>\n",
       "    <tr>\n",
       "      <th>1189822</th>\n",
       "      <td>267</td>\n",
       "      <td>ZZZ3_HUMAN</td>\n",
       "      <td>10.231615</td>\n",
       "      <td>230719_THP-1_Chrom_end2end_Plate3_DMSO_B03</td>\n",
       "      <td>VTP50469</td>\n",
       "      <td>207</td>\n",
       "      <td>170</td>\n",
       "      <td>10</td>\n",
       "      <td>0.0</td>\n",
       "      <td>False</td>\n",
       "      <td>0</td>\n",
       "    </tr>\n",
       "    <tr>\n",
       "      <th>1189823</th>\n",
       "      <td>268</td>\n",
       "      <td>ZZZ3_HUMAN</td>\n",
       "      <td>10.502691</td>\n",
       "      <td>230719_THP-1_Chrom_end2end_Plate3_DbET6_C07</td>\n",
       "      <td>VTP50469</td>\n",
       "      <td>223</td>\n",
       "      <td>170</td>\n",
       "      <td>10</td>\n",
       "      <td>0.0</td>\n",
       "      <td>False</td>\n",
       "      <td>0</td>\n",
       "    </tr>\n",
       "    <tr>\n",
       "      <th>1189824</th>\n",
       "      <td>269</td>\n",
       "      <td>ZZZ3_HUMAN</td>\n",
       "      <td>10.674776</td>\n",
       "      <td>230719_THP-1_Chrom_end2end_Plate3_DMSO_C11</td>\n",
       "      <td>VTP50469</td>\n",
       "      <td>227</td>\n",
       "      <td>170</td>\n",
       "      <td>10</td>\n",
       "      <td>0.0</td>\n",
       "      <td>False</td>\n",
       "      <td>0</td>\n",
       "    </tr>\n",
       "    <tr>\n",
       "      <th>1189825</th>\n",
       "      <td>270</td>\n",
       "      <td>ZZZ3_HUMAN</td>\n",
       "      <td>10.531401</td>\n",
       "      <td>230719_THP-1_Chrom_end2end_Plate3_Jakafi_E02</td>\n",
       "      <td>VTP50469</td>\n",
       "      <td>242</td>\n",
       "      <td>170</td>\n",
       "      <td>10</td>\n",
       "      <td>0.0</td>\n",
       "      <td>False</td>\n",
       "      <td>0</td>\n",
       "    </tr>\n",
       "  </tbody>\n",
       "</table>\n",
       "<p>1189826 rows × 11 columns</p>\n",
       "</div>"
      ],
      "text/plain": [
       "         RUN      Protein  LogIntensities  \\\n",
       "0          1  1433B_HUMAN       12.873423   \n",
       "1          2  1433B_HUMAN       12.866217   \n",
       "2          3  1433B_HUMAN       12.686827   \n",
       "3          4  1433B_HUMAN       12.625462   \n",
       "4          5  1433B_HUMAN       12.538365   \n",
       "...      ...          ...             ...   \n",
       "1189821  266   ZZZ3_HUMAN       10.384438   \n",
       "1189822  267   ZZZ3_HUMAN       10.231615   \n",
       "1189823  268   ZZZ3_HUMAN       10.502691   \n",
       "1189824  269   ZZZ3_HUMAN       10.674776   \n",
       "1189825  270   ZZZ3_HUMAN       10.531401   \n",
       "\n",
       "                                            originalRUN     GROUP  SUBJECT  \\\n",
       "0        230719_THP-1_Chrom_end2end_Plate1_DMSO_A02_DIA      DMSO        2   \n",
       "1        230719_THP-1_Chrom_end2end_Plate1_DMSO_A05_DIA      DMSO        5   \n",
       "2        230719_THP-1_Chrom_end2end_Plate1_DMSO_A10_DIA      DMSO       10   \n",
       "3        230719_THP-1_Chrom_end2end_Plate1_DMSO_A12_DIA      DMSO       12   \n",
       "4        230719_THP-1_Chrom_end2end_Plate1_DMSO_B01_DIA      DMSO       13   \n",
       "...                                                 ...       ...      ...   \n",
       "1189821      230719_THP-1_Chrom_end2end_Plate3_DMSO_A10  VTP50469      202   \n",
       "1189822      230719_THP-1_Chrom_end2end_Plate3_DMSO_B03  VTP50469      207   \n",
       "1189823     230719_THP-1_Chrom_end2end_Plate3_DbET6_C07  VTP50469      223   \n",
       "1189824      230719_THP-1_Chrom_end2end_Plate3_DMSO_C11  VTP50469      227   \n",
       "1189825    230719_THP-1_Chrom_end2end_Plate3_Jakafi_E02  VTP50469      242   \n",
       "\n",
       "         TotalGroupMeasurements  NumMeasuredFeature  MissingPercentage  \\\n",
       "0                          1210                  10                0.0   \n",
       "1                          1210                  10                0.0   \n",
       "2                          1210                  10                0.0   \n",
       "3                          1210                  10                0.0   \n",
       "4                          1210                  10                0.0   \n",
       "...                         ...                 ...                ...   \n",
       "1189821                     170                  10                0.0   \n",
       "1189822                     170                  10                0.0   \n",
       "1189823                     170                  10                0.0   \n",
       "1189824                     170                  10                0.0   \n",
       "1189825                     170                  10                0.0   \n",
       "\n",
       "         more50missing  NumImputedFeature  \n",
       "0                False                  0  \n",
       "1                False                  0  \n",
       "2                False                  0  \n",
       "3                False                  0  \n",
       "4                False                  0  \n",
       "...                ...                ...  \n",
       "1189821          False                  0  \n",
       "1189822          False                  0  \n",
       "1189823          False                  0  \n",
       "1189824          False                  0  \n",
       "1189825          False                  0  \n",
       "\n",
       "[1189826 rows x 11 columns]"
      ]
     },
     "execution_count": 2,
     "metadata": {},
     "output_type": "execute_result"
    }
   ],
   "source": [
    "import pandas as pd\n",
    "\n",
    "DATA_PATH = \"dataProcessOutput.csv\"\n",
    "\n",
    "def import_data(filename):\n",
    "    pandas_df = pd.read_csv(filename)\n",
    "    return pandas_df\n",
    "\n",
    "input_data = import_data(DATA_PATH)\n",
    "input_data"
   ]
  },
  {
   "cell_type": "markdown",
   "id": "29f2614c-4f3d-4acb-abd3-dd377a177b3e",
   "metadata": {},
   "source": [
    "### Experimental Factors:\n",
    "| Treatment    | Target |\n",
    "| :-------- | :------- |\n",
    "| DMSO  | Control    |\n",
    "| VTP50469  | MEN1    |\n",
    "| PF477736 | Chk1    |\n",
    "| Jakafi    | JAK1/2    |\n",
    "| K-975  | TEAD1   |\n",
    "| VE-821 | ATR    |\n",
    "| dBET6    | BRD2/3/4   |\n",
    "\n",
    "\n",
    "Our next goal is to demonstrate how we can pull pathway data from a pathway database. For instance, we could take one of the drugs or one of the proteins in our dataset, and query PathwayCommons for its neighborhood."
   ]
  },
  {
   "cell_type": "markdown",
   "id": "3472fe7f-026d-4494-b1ed-19de76d48fb4",
   "metadata": {},
   "source": [
    "## 2. How can we query pathway data from a pathway database?"
   ]
  },
  {
   "cell_type": "markdown",
   "id": "ed70f148-6d76-4167-ad89-ca71f2c48501",
   "metadata": {},
   "source": [
    "PyBioPAX implements the BioPAX level 3 object model (http://www.biopax.org/release/biopax-level3-documentation.pdf) as a set of Python classes. It exposes API functions to read OWL files into this object model, and to dump OWL files from this object model. This allows for the processing and creation of BioPAX models natively in Python.\n",
    "\n",
    "Gyori BM, Hoyt CT (2022). PyBioPAX: biological pathway exchange in Python. Journal of Open Source Software, 7(71), 4136, https://doi.org/10.21105/joss.04136"
   ]
  },
  {
   "cell_type": "code",
   "execution_count": 11,
   "id": "b2e4e173-2b11-42fc-a9b1-9c82260dda17",
   "metadata": {},
   "outputs": [],
   "source": [
    "import pybiopax\n",
    "import requests"
   ]
  },
  {
   "cell_type": "markdown",
   "id": "65bff165-c32c-434c-bff4-47c3a67fc04b",
   "metadata": {},
   "source": [
    "We can query for the neighborhood around JAK1 stored in pathway commons.  We should expect that the small molecule associated with Jakafi should be in the neighborhood.  Note that Ruxolitinib is another term for Jakafi, which we determined from gilda in a previous module."
   ]
  },
  {
   "cell_type": "code",
   "execution_count": 12,
   "id": "c42ae645-3d8f-4d89-a8e6-6c626f664564",
   "metadata": {},
   "outputs": [],
   "source": [
    "def _get_query_entity(ent):\n",
    "    if isinstance(ent, str):\n",
    "        return ent\n",
    "    elif isinstance(ent, (list, tuple)):\n",
    "        return ','.join(ent)\n",
    "    else:\n",
    "        raise ValueError('Invalid query entity: %s' % str(ent))"
   ]
  },
  {
   "cell_type": "code",
   "execution_count": 61,
   "id": "71904516-22f8-4d7e-9f41-a3b6128656b7",
   "metadata": {},
   "outputs": [],
   "source": [
    "kind = 'neighborhood'\n",
    "source = ['JAK1']\n",
    "# source = ['Ruxolitinib']\n",
    "# target = ['Ruxolitinib']\n",
    "pc2_url = 'https://www.pathwaycommons.org/pc2/'\n",
    "params = {}\n",
    "params['format'] = 'BIOPAX'\n",
    "params['organism'] = '9606'\n",
    "params['datasource'] = None\n",
    "# Get the \"kind\" string\n",
    "kind_str = kind.lower()\n",
    "if kind not in ['neighborhood', 'pathsbetween', 'pathsfromto']:\n",
    "    raise ValueError('Invalid query type %s' % kind_str)\n",
    "params['kind'] = kind_str\n",
    "# Get the source string\n",
    "params['source'] = _get_query_entity(source)\n",
    "params['limit'] = 1\n",
    "if kind == 'pathsfromto':\n",
    "    params['target'] = _get_query_entity(target)\n",
    "\n",
    "res = requests.get(pc2_url + 'graph', params=params)"
   ]
  },
  {
   "cell_type": "code",
   "execution_count": 62,
   "id": "624dbfdb-7bf4-48fa-a7fc-35cc61270cf0",
   "metadata": {},
   "outputs": [
    {
     "data": {
      "application/vnd.jupyter.widget-view+json": {
       "model_id": "e45acee2ff014659a03ba7c67dc44c48",
       "version_major": 2,
       "version_minor": 0
      },
      "text/plain": [
       "Processing OWL elements:   0%|          | 0.00/102k [00:00<?, ?it/s]"
      ]
     },
     "metadata": {},
     "output_type": "display_data"
    }
   ],
   "source": [
    "model = pybiopax.model_from_owl_str(res.text)"
   ]
  },
  {
   "cell_type": "code",
   "execution_count": 66,
   "id": "3a22157e-d8bf-41dc-bfbb-f48e7cbdd058",
   "metadata": {},
   "outputs": [
    {
     "data": {
      "text/plain": [
       "SmallMolecule(Ruxolitinib)"
      ]
     },
     "execution_count": 66,
     "metadata": {},
     "output_type": "execute_result"
    }
   ],
   "source": [
    "for object in model.objects.keys():\n",
    "    if isinstance(model.objects.get(object), pybiopax.biopax.SmallMolecule):\n",
    "        if 'Ruxolitinib' in model.objects.get(object).display_name:\n",
    "            break\n",
    "model.objects.get(object)"
   ]
  },
  {
   "cell_type": "code",
   "execution_count": null,
   "id": "ba5a6dc9-3649-4888-b1a2-e72e6d47e75c",
   "metadata": {},
   "outputs": [],
   "source": [
    "# model = pybiopax.model_from_pc_query('pathsfromto', ['MAP2K1'], ['MAPK1'])"
   ]
  }
 ],
 "metadata": {
  "kernelspec": {
   "display_name": "venv2",
   "language": "python",
   "name": "venv2"
  },
  "language_info": {
   "codemirror_mode": {
    "name": "ipython",
    "version": 3
   },
   "file_extension": ".py",
   "mimetype": "text/x-python",
   "name": "python",
   "nbconvert_exporter": "python",
   "pygments_lexer": "ipython3",
   "version": "3.11.7"
  }
 },
 "nbformat": 4,
 "nbformat_minor": 5
}

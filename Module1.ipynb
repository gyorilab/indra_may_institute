{
 "cells": [
  {
   "cell_type": "markdown",
   "id": "9f9b7e66-acf6-443a-a729-a67622b5931f",
   "metadata": {},
   "source": [
    "# Hands on: Introduction to data annotation using identifiers"
   ]
  },
  {
   "cell_type": "code",
   "execution_count": 1,
   "id": "505a7b3f-bf79-42ff-a82a-8c2e1277a304",
   "metadata": {},
   "outputs": [],
   "source": [
    "!pip install -q -r requirements.txt"
   ]
  },
  {
   "cell_type": "markdown",
   "id": "1f0c61ae-e8ff-440f-a5c7-7f9fb9e74ba0",
   "metadata": {},
   "source": [
    "## 1. Introduction"
   ]
  },
  {
   "cell_type": "markdown",
   "id": "fc9b0fe1-9467-4b53-9166-5cd064b8c1e1",
   "metadata": {},
   "source": [
    "### Example Dataset"
   ]
  },
  {
   "cell_type": "markdown",
   "id": "3492763c-f6b9-492c-bd8f-047089c8ec3c",
   "metadata": {},
   "source": [
    "We use an example dataset produced from an MSstats differential abundance analysis.  This dataset is a small molecule dataset with known inhibition targets.  It includes 8 small molecule inhibitors and a control DMSO holdout. "
   ]
  },
  {
   "cell_type": "code",
   "execution_count": 2,
   "id": "9b84c8d6-faaf-46e2-a190-98a7b17a659c",
   "metadata": {},
   "outputs": [
    {
     "data": {
      "text/html": [
       "<div>\n",
       "<style scoped>\n",
       "    .dataframe tbody tr th:only-of-type {\n",
       "        vertical-align: middle;\n",
       "    }\n",
       "\n",
       "    .dataframe tbody tr th {\n",
       "        vertical-align: top;\n",
       "    }\n",
       "\n",
       "    .dataframe thead th {\n",
       "        text-align: right;\n",
       "    }\n",
       "</style>\n",
       "<table border=\"1\" class=\"dataframe\">\n",
       "  <thead>\n",
       "    <tr style=\"text-align: right;\">\n",
       "      <th></th>\n",
       "      <th>RUN</th>\n",
       "      <th>Protein</th>\n",
       "      <th>LogIntensities</th>\n",
       "      <th>originalRUN</th>\n",
       "      <th>GROUP</th>\n",
       "      <th>SUBJECT</th>\n",
       "      <th>TotalGroupMeasurements</th>\n",
       "      <th>NumMeasuredFeature</th>\n",
       "      <th>MissingPercentage</th>\n",
       "      <th>more50missing</th>\n",
       "      <th>NumImputedFeature</th>\n",
       "    </tr>\n",
       "  </thead>\n",
       "  <tbody>\n",
       "    <tr>\n",
       "      <th>0</th>\n",
       "      <td>1</td>\n",
       "      <td>1433B_HUMAN</td>\n",
       "      <td>12.873423</td>\n",
       "      <td>230719_THP-1_Chrom_end2end_Plate1_DMSO_A02_DIA</td>\n",
       "      <td>DMSO</td>\n",
       "      <td>2</td>\n",
       "      <td>1210</td>\n",
       "      <td>10</td>\n",
       "      <td>0.0</td>\n",
       "      <td>False</td>\n",
       "      <td>0</td>\n",
       "    </tr>\n",
       "    <tr>\n",
       "      <th>1</th>\n",
       "      <td>2</td>\n",
       "      <td>1433B_HUMAN</td>\n",
       "      <td>12.866217</td>\n",
       "      <td>230719_THP-1_Chrom_end2end_Plate1_DMSO_A05_DIA</td>\n",
       "      <td>DMSO</td>\n",
       "      <td>5</td>\n",
       "      <td>1210</td>\n",
       "      <td>10</td>\n",
       "      <td>0.0</td>\n",
       "      <td>False</td>\n",
       "      <td>0</td>\n",
       "    </tr>\n",
       "    <tr>\n",
       "      <th>2</th>\n",
       "      <td>3</td>\n",
       "      <td>1433B_HUMAN</td>\n",
       "      <td>12.686827</td>\n",
       "      <td>230719_THP-1_Chrom_end2end_Plate1_DMSO_A10_DIA</td>\n",
       "      <td>DMSO</td>\n",
       "      <td>10</td>\n",
       "      <td>1210</td>\n",
       "      <td>10</td>\n",
       "      <td>0.0</td>\n",
       "      <td>False</td>\n",
       "      <td>0</td>\n",
       "    </tr>\n",
       "    <tr>\n",
       "      <th>3</th>\n",
       "      <td>4</td>\n",
       "      <td>1433B_HUMAN</td>\n",
       "      <td>12.625462</td>\n",
       "      <td>230719_THP-1_Chrom_end2end_Plate1_DMSO_A12_DIA</td>\n",
       "      <td>DMSO</td>\n",
       "      <td>12</td>\n",
       "      <td>1210</td>\n",
       "      <td>10</td>\n",
       "      <td>0.0</td>\n",
       "      <td>False</td>\n",
       "      <td>0</td>\n",
       "    </tr>\n",
       "    <tr>\n",
       "      <th>4</th>\n",
       "      <td>5</td>\n",
       "      <td>1433B_HUMAN</td>\n",
       "      <td>12.538365</td>\n",
       "      <td>230719_THP-1_Chrom_end2end_Plate1_DMSO_B01_DIA</td>\n",
       "      <td>DMSO</td>\n",
       "      <td>13</td>\n",
       "      <td>1210</td>\n",
       "      <td>10</td>\n",
       "      <td>0.0</td>\n",
       "      <td>False</td>\n",
       "      <td>0</td>\n",
       "    </tr>\n",
       "    <tr>\n",
       "      <th>...</th>\n",
       "      <td>...</td>\n",
       "      <td>...</td>\n",
       "      <td>...</td>\n",
       "      <td>...</td>\n",
       "      <td>...</td>\n",
       "      <td>...</td>\n",
       "      <td>...</td>\n",
       "      <td>...</td>\n",
       "      <td>...</td>\n",
       "      <td>...</td>\n",
       "      <td>...</td>\n",
       "    </tr>\n",
       "    <tr>\n",
       "      <th>1189821</th>\n",
       "      <td>266</td>\n",
       "      <td>ZZZ3_HUMAN</td>\n",
       "      <td>10.384438</td>\n",
       "      <td>230719_THP-1_Chrom_end2end_Plate3_DMSO_A10</td>\n",
       "      <td>VTP50469</td>\n",
       "      <td>202</td>\n",
       "      <td>170</td>\n",
       "      <td>10</td>\n",
       "      <td>0.0</td>\n",
       "      <td>False</td>\n",
       "      <td>0</td>\n",
       "    </tr>\n",
       "    <tr>\n",
       "      <th>1189822</th>\n",
       "      <td>267</td>\n",
       "      <td>ZZZ3_HUMAN</td>\n",
       "      <td>10.231615</td>\n",
       "      <td>230719_THP-1_Chrom_end2end_Plate3_DMSO_B03</td>\n",
       "      <td>VTP50469</td>\n",
       "      <td>207</td>\n",
       "      <td>170</td>\n",
       "      <td>10</td>\n",
       "      <td>0.0</td>\n",
       "      <td>False</td>\n",
       "      <td>0</td>\n",
       "    </tr>\n",
       "    <tr>\n",
       "      <th>1189823</th>\n",
       "      <td>268</td>\n",
       "      <td>ZZZ3_HUMAN</td>\n",
       "      <td>10.502691</td>\n",
       "      <td>230719_THP-1_Chrom_end2end_Plate3_DbET6_C07</td>\n",
       "      <td>VTP50469</td>\n",
       "      <td>223</td>\n",
       "      <td>170</td>\n",
       "      <td>10</td>\n",
       "      <td>0.0</td>\n",
       "      <td>False</td>\n",
       "      <td>0</td>\n",
       "    </tr>\n",
       "    <tr>\n",
       "      <th>1189824</th>\n",
       "      <td>269</td>\n",
       "      <td>ZZZ3_HUMAN</td>\n",
       "      <td>10.674776</td>\n",
       "      <td>230719_THP-1_Chrom_end2end_Plate3_DMSO_C11</td>\n",
       "      <td>VTP50469</td>\n",
       "      <td>227</td>\n",
       "      <td>170</td>\n",
       "      <td>10</td>\n",
       "      <td>0.0</td>\n",
       "      <td>False</td>\n",
       "      <td>0</td>\n",
       "    </tr>\n",
       "    <tr>\n",
       "      <th>1189825</th>\n",
       "      <td>270</td>\n",
       "      <td>ZZZ3_HUMAN</td>\n",
       "      <td>10.531401</td>\n",
       "      <td>230719_THP-1_Chrom_end2end_Plate3_Jakafi_E02</td>\n",
       "      <td>VTP50469</td>\n",
       "      <td>242</td>\n",
       "      <td>170</td>\n",
       "      <td>10</td>\n",
       "      <td>0.0</td>\n",
       "      <td>False</td>\n",
       "      <td>0</td>\n",
       "    </tr>\n",
       "  </tbody>\n",
       "</table>\n",
       "<p>1189826 rows × 11 columns</p>\n",
       "</div>"
      ],
      "text/plain": [
       "         RUN      Protein  LogIntensities  \\\n",
       "0          1  1433B_HUMAN       12.873423   \n",
       "1          2  1433B_HUMAN       12.866217   \n",
       "2          3  1433B_HUMAN       12.686827   \n",
       "3          4  1433B_HUMAN       12.625462   \n",
       "4          5  1433B_HUMAN       12.538365   \n",
       "...      ...          ...             ...   \n",
       "1189821  266   ZZZ3_HUMAN       10.384438   \n",
       "1189822  267   ZZZ3_HUMAN       10.231615   \n",
       "1189823  268   ZZZ3_HUMAN       10.502691   \n",
       "1189824  269   ZZZ3_HUMAN       10.674776   \n",
       "1189825  270   ZZZ3_HUMAN       10.531401   \n",
       "\n",
       "                                            originalRUN     GROUP  SUBJECT  \\\n",
       "0        230719_THP-1_Chrom_end2end_Plate1_DMSO_A02_DIA      DMSO        2   \n",
       "1        230719_THP-1_Chrom_end2end_Plate1_DMSO_A05_DIA      DMSO        5   \n",
       "2        230719_THP-1_Chrom_end2end_Plate1_DMSO_A10_DIA      DMSO       10   \n",
       "3        230719_THP-1_Chrom_end2end_Plate1_DMSO_A12_DIA      DMSO       12   \n",
       "4        230719_THP-1_Chrom_end2end_Plate1_DMSO_B01_DIA      DMSO       13   \n",
       "...                                                 ...       ...      ...   \n",
       "1189821      230719_THP-1_Chrom_end2end_Plate3_DMSO_A10  VTP50469      202   \n",
       "1189822      230719_THP-1_Chrom_end2end_Plate3_DMSO_B03  VTP50469      207   \n",
       "1189823     230719_THP-1_Chrom_end2end_Plate3_DbET6_C07  VTP50469      223   \n",
       "1189824      230719_THP-1_Chrom_end2end_Plate3_DMSO_C11  VTP50469      227   \n",
       "1189825    230719_THP-1_Chrom_end2end_Plate3_Jakafi_E02  VTP50469      242   \n",
       "\n",
       "         TotalGroupMeasurements  NumMeasuredFeature  MissingPercentage  \\\n",
       "0                          1210                  10                0.0   \n",
       "1                          1210                  10                0.0   \n",
       "2                          1210                  10                0.0   \n",
       "3                          1210                  10                0.0   \n",
       "4                          1210                  10                0.0   \n",
       "...                         ...                 ...                ...   \n",
       "1189821                     170                  10                0.0   \n",
       "1189822                     170                  10                0.0   \n",
       "1189823                     170                  10                0.0   \n",
       "1189824                     170                  10                0.0   \n",
       "1189825                     170                  10                0.0   \n",
       "\n",
       "         more50missing  NumImputedFeature  \n",
       "0                False                  0  \n",
       "1                False                  0  \n",
       "2                False                  0  \n",
       "3                False                  0  \n",
       "4                False                  0  \n",
       "...                ...                ...  \n",
       "1189821          False                  0  \n",
       "1189822          False                  0  \n",
       "1189823          False                  0  \n",
       "1189824          False                  0  \n",
       "1189825          False                  0  \n",
       "\n",
       "[1189826 rows x 11 columns]"
      ]
     },
     "execution_count": 2,
     "metadata": {},
     "output_type": "execute_result"
    }
   ],
   "source": [
    "import pandas as pd\n",
    "\n",
    "DATA_PATH = \"dataProcessOutput.csv\"\n",
    "\n",
    "def import_data(filename):\n",
    "    pandas_df = pd.read_csv(filename)\n",
    "    return pandas_df\n",
    "\n",
    "input_data = import_data(DATA_PATH)\n",
    "input_data"
   ]
  },
  {
   "cell_type": "markdown",
   "id": "29f2614c-4f3d-4acb-abd3-dd377a177b3e",
   "metadata": {},
   "source": [
    "### Experimental Factors:\n",
    "| Treatment    | Target |\n",
    "| :-------- | :------- |\n",
    "| DMSO  | Control    |\n",
    "| VTP50469  | MEN1    |\n",
    "| PF477736 | Chk1    |\n",
    "| Jakafi    | JAK1/2    |\n",
    "| K-975  | TEAD1   |\n",
    "| VE-821 | ATR    |\n",
    "| dBET6    | BRD2/3/4   |\n",
    "\n",
    "\n",
    "Our first goal is to make this data set interoperable and connected to other data sets and surrounding knowledge.  This means we must normalize experimental factors to identifiers"
   ]
  },
  {
   "cell_type": "markdown",
   "id": "3472fe7f-026d-4494-b1ed-19de76d48fb4",
   "metadata": {},
   "source": [
    "## 2. How can we normalize text names to identifiers?"
   ]
  },
  {
   "cell_type": "markdown",
   "id": "ed70f148-6d76-4167-ad89-ca71f2c48501",
   "metadata": {},
   "source": [
    "Gilda is a Python package and REST service that grounds (i.e., finds appropriate identifiers in namespaces for) named entities in biomedical text.\n",
    "\n",
    "Gyori BM, Hoyt CT, Steppi A (2022). Gilda: biomedical entity text normalization with machine-learned disambiguation as a service. Bioinformatics Advances, 2022; vbac034 https://doi.org/10.1093/bioadv/vbac034."
   ]
  },
  {
   "cell_type": "code",
   "execution_count": 3,
   "id": "b2e4e173-2b11-42fc-a9b1-9c82260dda17",
   "metadata": {},
   "outputs": [],
   "source": [
    "import gilda"
   ]
  },
  {
   "cell_type": "markdown",
   "id": "78abf8c2-a0c0-4d3f-a9d6-f06a7c004507",
   "metadata": {},
   "source": [
    "For each drug, we can ground their names using gilda."
   ]
  },
  {
   "cell_type": "code",
   "execution_count": 4,
   "id": "740636c1-39bf-44aa-b8db-479446403fb0",
   "metadata": {},
   "outputs": [
    {
     "data": {
      "text/plain": [
       "Term(pf477736,PF-477736,CHEBI,CHEBI:91385,PF-00477736,synonym,chebi,None,None,None)"
      ]
     },
     "execution_count": 4,
     "metadata": {},
     "output_type": "execute_result"
    }
   ],
   "source": [
    "gilda.ground('PF-477736')[0].term"
   ]
  },
  {
   "cell_type": "code",
   "execution_count": 5,
   "id": "0930fe20-154f-470d-b57b-f86cd1d05efe",
   "metadata": {},
   "outputs": [
    {
     "data": {
      "text/plain": [
       "Term(jakafi,Jakafi,CHEBI,CHEBI:66917,ruxolitinib phosphate,synonym,chebi,None,None,None)"
      ]
     },
     "execution_count": 5,
     "metadata": {},
     "output_type": "execute_result"
    }
   ],
   "source": [
    "gilda.ground('Jakafi')[0].term"
   ]
  },
  {
   "cell_type": "markdown",
   "id": "4ef91048-be28-483f-a342-8480ef75b72f",
   "metadata": {},
   "source": [
    "We can also ground target names.  For example, CHK1 is grounded to CHEK1"
   ]
  },
  {
   "cell_type": "code",
   "execution_count": 6,
   "id": "5f844fb4-20c2-4eab-a757-1530f6c500fb",
   "metadata": {},
   "outputs": [
    {
     "data": {
      "text/plain": [
       "Term(chk1,Chk1,HGNC,1925,CHEK1,curated,famplex,9606,None,None)"
      ]
     },
     "execution_count": 6,
     "metadata": {},
     "output_type": "execute_result"
    }
   ],
   "source": [
    "gilda.ground('Chk1')[0].term"
   ]
  },
  {
   "cell_type": "markdown",
   "id": "03e30109-3831-464b-a03b-4898881925ba",
   "metadata": {},
   "source": [
    "Gilda has a REST service that accepts POST requests with a JSON header on the /ground endpoint. There is a public REST service running at http://grounding.indra.bio"
   ]
  },
  {
   "cell_type": "code",
   "execution_count": 7,
   "id": "9f57a951-f86b-4c38-923b-976622f8d13e",
   "metadata": {},
   "outputs": [
    {
     "data": {
      "text/plain": [
       "[{'match': {'cap_combos': [],\n",
       "   'dash_mismatches': [],\n",
       "   'exact': True,\n",
       "   'query': 'Jakafi',\n",
       "   'ref': 'Jakafi',\n",
       "   'space_mismatch': False},\n",
       "  'score': 0.5555555555555556,\n",
       "  'term': {'db': 'CHEBI',\n",
       "   'entry_name': 'ruxolitinib phosphate',\n",
       "   'id': 'CHEBI:66917',\n",
       "   'norm_text': 'jakafi',\n",
       "   'source': 'chebi',\n",
       "   'status': 'synonym',\n",
       "   'text': 'Jakafi'},\n",
       "  'url': 'https://identifiers.org/CHEBI:66917'}]"
      ]
     },
     "execution_count": 7,
     "metadata": {},
     "output_type": "execute_result"
    }
   ],
   "source": [
    "import requests\n",
    "res = requests.post('http://grounding.indra.bio/ground', json={'text': 'Jakafi'})\n",
    "res.json()"
   ]
  },
  {
   "cell_type": "code",
   "execution_count": 8,
   "id": "a24bdfa6-9f5c-4223-b7c1-3bf5f3860262",
   "metadata": {},
   "outputs": [],
   "source": [
    "import bioregistry"
   ]
  },
  {
   "cell_type": "markdown",
   "id": "d962d276-1b0b-49cf-a1c7-59cc15821591",
   "metadata": {},
   "source": [
    "The Bioregistry supports converting a CURIE to a canonical CURIE by normalizing the prefix and removing redundant namespaces embedded in LUIs with the normalize_curie() function"
   ]
  },
  {
   "cell_type": "code",
   "execution_count": 9,
   "id": "85cae4cd-cb05-4489-a46d-93a67c6a6dce",
   "metadata": {},
   "outputs": [
    {
     "data": {
      "text/plain": [
       "'uniprot:1433B_HUMAN'"
      ]
     },
     "execution_count": 9,
     "metadata": {},
     "output_type": "execute_result"
    }
   ],
   "source": [
    "# UniProtKB is another naming convention referring to Uniprot\n",
    "bioregistry.normalize_curie('UniProtKB:1433B_HUMAN')"
   ]
  },
  {
   "cell_type": "code",
   "execution_count": 10,
   "id": "f8e8e90c-ca9b-412f-ae13-46763b967a22",
   "metadata": {},
   "outputs": [
    {
     "data": {
      "text/plain": [
       "'chebi:66917'"
      ]
     },
     "execution_count": 10,
     "metadata": {},
     "output_type": "execute_result"
    }
   ],
   "source": [
    "# CHEBIID is an alternative prefix for chebi\n",
    "bioregistry.normalize_curie('CHEBIID:66917')"
   ]
  },
  {
   "cell_type": "markdown",
   "id": "f686c338-2c85-48d0-8148-ffe5a4c81c4b",
   "metadata": {},
   "source": [
    "We can determine whether an ID is a valid identifier within a particular namespace.  In the below example, we demonstrate how the bioregistry package can determine whether an ID is a valid uniprot ID."
   ]
  },
  {
   "cell_type": "code",
   "execution_count": 11,
   "id": "9cf21481-a7b6-4511-866d-9d53c0ab54c5",
   "metadata": {},
   "outputs": [
    {
     "name": "stdout",
     "output_type": "stream",
     "text": [
      "False\n",
      "False\n",
      "True\n"
     ]
    }
   ],
   "source": [
    "print(bioregistry.is_valid_identifier('uniprot', '1433B_HUMAN')) # uniprot mnemonic ID\n",
    "print(bioregistry.is_valid_identifier('uniprot', 'YWHAB')) # corresponding gene name\n",
    "print(bioregistry.is_valid_identifier('uniprot', 'P31946')) # corresponding uniprot ID"
   ]
  },
  {
   "cell_type": "markdown",
   "id": "bfc6c1c4-bc45-4961-b0d7-7da20c579cbc",
   "metadata": {},
   "source": [
    "Bioregistry can also provide a URL to access information on the identifier"
   ]
  },
  {
   "cell_type": "code",
   "execution_count": 12,
   "id": "12f84a7c-35d8-4fa3-bfdb-ca4f76c79dd1",
   "metadata": {},
   "outputs": [
    {
     "data": {
      "text/plain": [
       "'https://purl.uniprot.org/uniprot/P31946'"
      ]
     },
     "execution_count": 12,
     "metadata": {},
     "output_type": "execute_result"
    }
   ],
   "source": [
    "bioregistry.resolve_identifier.get_default_iri('uniprot', 'P31946')"
   ]
  }
 ],
 "metadata": {
  "kernelspec": {
   "display_name": "venv2",
   "language": "python",
   "name": "venv2"
  },
  "language_info": {
   "codemirror_mode": {
    "name": "ipython",
    "version": 3
   },
   "file_extension": ".py",
   "mimetype": "text/x-python",
   "name": "python",
   "nbconvert_exporter": "python",
   "pygments_lexer": "ipython3",
   "version": "3.11.7"
  }
 },
 "nbformat": 4,
 "nbformat_minor": 5
}

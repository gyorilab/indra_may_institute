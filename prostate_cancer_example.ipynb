{
 "cells": [
  {
   "cell_type": "markdown",
   "id": "732c57f3",
   "metadata": {},
   "source": [
    "## Prostate cancer study\n",
    "\n",
    "Starting with the gene names corresponding to a protein list obtained by comparing \n",
    "patients whose disease progressed vs stable.\n",
    "\n",
    "We first obtain a clean/valid human gene list we can use downstream."
   ]
  },
  {
   "cell_type": "code",
   "execution_count": 3,
   "id": "d766f46e",
   "metadata": {},
   "outputs": [],
   "source": [
    "genes = \"\"\"...\"\"\" # Paste comma separated gene list here, the original list is not made public"
   ]
  },
  {
   "cell_type": "code",
   "execution_count": 2,
   "id": "cb74472f",
   "metadata": {},
   "outputs": [],
   "source": [
    "gene_names = [gene_name.strip() for gene_name in genes.split(',')]"
   ]
  },
  {
   "cell_type": "code",
   "execution_count": null,
   "id": "4351a118",
   "metadata": {},
   "outputs": [],
   "source": [
    "from indra.databases import hgnc_client\n",
    "\n",
    "clean_gene_names = []\n",
    "hgnc_ids = []\n",
    "for gene_name in gene_names:\n",
    "    hgnc_id = hgnc_client.get_hgnc_id(gene_name)\n",
    "    if not hgnc_id:\n",
    "        hgnc_id = hgnc_client.get_current_hgnc_id(gene_name)\n",
    "        if hgnc_id and hgnc_id != '5728':\n",
    "            clean_gene_names.append(hgnc_client.get_hgnc_name(hgnc_id))\n",
    "            hgnc_ids.append(hgnc_id)\n",
    "    else:\n",
    "        clean_gene_names.append(gene_name)\n",
    "        hgnc_ids.append(hgnc_id)\n",
    "clean_gene_names"
   ]
  },
  {
   "cell_type": "code",
   "execution_count": null,
   "id": "89f6bf0e",
   "metadata": {},
   "outputs": [],
   "source": [
    "' '.join(clean_gene_names)"
   ]
  },
  {
   "cell_type": "code",
   "execution_count": null,
   "id": "48057f02",
   "metadata": {},
   "outputs": [],
   "source": [
    "hgnc_ids"
   ]
  },
  {
   "cell_type": "markdown",
   "id": "ca96d66b",
   "metadata": {},
   "source": [
    "We now obtain an INDRA subnetwork for a list of genes"
   ]
  },
  {
   "cell_type": "code",
   "execution_count": null,
   "id": "74e0c4a3",
   "metadata": {},
   "outputs": [],
   "source": [
    "import requests\n",
    "\n",
    "def query_indra_subnetwork(groundings):\n",
    "    \"\"\"Return a list INDRA subnetwork relations based on a list of groundings.\"\"\"\n",
    "    res = requests.post(\n",
    "        'https://discovery.indra.bio/api/indra_subnetwork_relations',\n",
    "        json={'nodes': groundings}\n",
    "    )\n",
    "    return res.json()\n",
    "\n",
    "groundings = []\n",
    "for hgnc_id in hgnc_ids:\n",
    "    groundings.append(('HGNC', hgnc_id))\n",
    "subnetwork_relations = query_indra_subnetwork(groundings)"
   ]
  },
  {
   "cell_type": "code",
   "execution_count": null,
   "id": "2ec0ffed",
   "metadata": {},
   "outputs": [],
   "source": [
    "len(subnetwork_relations)"
   ]
  },
  {
   "cell_type": "markdown",
   "id": "8cfec661",
   "metadata": {},
   "source": [
    "We first create an HTML Statement dump to be able to browse and curate statements"
   ]
  },
  {
   "cell_type": "code",
   "execution_count": null,
   "id": "4af1ac06",
   "metadata": {},
   "outputs": [],
   "source": [
    "import json\n",
    "from indra.statements import stmts_from_json\n",
    "\n",
    "# Gather statistics for HTML presentation\n",
    "unique_stmts = {entry['data']['stmt_hash']: json.loads(entry['data']['stmt_json'])\n",
    "                for entry in subnetwork_relations}\n",
    "ev_counts_by_hash = {entry['data']['stmt_hash']: entry['data']['evidence_count']\n",
    "                     for entry in subnetwork_relations}\n",
    "source_counts_by_hash = {entry['data']['stmt_hash']: json.loads(entry['data']['source_counts'])\n",
    "                         for entry in subnetwork_relations}\n",
    "stmts = stmts_from_json(list(unique_stmts.values()))\n",
    "\n",
    "from indra.assemblers.html import HtmlAssembler\n",
    "ha = HtmlAssembler(stmts,\n",
    "                   title='INDRA subnetwork statements',\n",
    "                   db_rest_url='https://db.indra.bio',\n",
    "                   ev_counts=ev_counts_by_hash,\n",
    "                   source_counts=source_counts_by_hash)\n",
    "html_str = ha.make_model()\n",
    "ha.save_model('statements2.html')"
   ]
  },
  {
   "cell_type": "markdown",
   "id": "a674cb66",
   "metadata": {},
   "source": [
    "We next upload the obtained network to NDEx"
   ]
  },
  {
   "cell_type": "code",
   "execution_count": null,
   "id": "120680ba",
   "metadata": {},
   "outputs": [],
   "source": [
    "import ndex2.client\n",
    "from ndex2 import create_nice_cx_from_server\n",
    "from indra.assemblers.cx import NiceCxAssembler\n",
    "from indra.databases import ndex_client\n",
    "\n",
    "ca = NiceCxAssembler(stmts, 'INDRA May Institute Network')\n",
    "ncx = ca.make_model(self_loops=False)\n",
    "\n",
    "style_network_id = '058c452f-b0d6-11ea-a4d3-0660b7976219'\n",
    "style_ncx = create_nice_cx_from_server(\n",
    "    server='http://test.ndexbio.org',\n",
    "    uuid=style_network_id)\n",
    "ncx.apply_style_from_network(style_ncx)\n",
    "\n",
    "username, password = ndex_client.get_default_ndex_cred(ndex_cred=None)\n",
    "ndex_args = {'server': 'http://public.ndexbio.org',\n",
    "             'username': username,\n",
    "             'password': password}\n",
    "network_url = ncx.upload_to(**ndex_args)\n",
    "network_url"
   ]
  }
 ],
 "metadata": {
  "kernelspec": {
   "display_name": "Python 3 (ipykernel)",
   "language": "python",
   "name": "python3"
  },
  "language_info": {
   "codemirror_mode": {
    "name": "ipython",
    "version": 3
   },
   "file_extension": ".py",
   "mimetype": "text/x-python",
   "name": "python",
   "nbconvert_exporter": "python",
   "pygments_lexer": "ipython3",
   "version": "3.10.13"
  }
 },
 "nbformat": 4,
 "nbformat_minor": 5
}

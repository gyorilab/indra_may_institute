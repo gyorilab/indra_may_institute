{
 "cells": [
  {
   "cell_type": "markdown",
   "id": "9f9b7e66-acf6-443a-a729-a67622b5931f",
   "metadata": {},
   "source": [
    "# Hands on: Interacting with human-curated networks in pathway databases"
   ]
  },
  {
   "cell_type": "code",
   "execution_count": 12,
   "id": "505a7b3f-bf79-42ff-a82a-8c2e1277a304",
   "metadata": {},
   "outputs": [
    {
     "name": "stdout",
     "output_type": "stream",
     "text": [
      "\u001b[31mERROR: pip's dependency resolver does not currently take into account all the packages that are installed. This behaviour is the source of the following dependency conflicts.\n",
      "conda-repo-cli 1.0.75 requires requests_mock, which is not installed.\n",
      "streamlit 1.30.0 requires pandas<3,>=1.3.0, but you have pandas 1.2.5 which is incompatible.\n",
      "conda-repo-cli 1.0.75 requires clyent==1.2.1, but you have clyent 1.2.2 which is incompatible.\n",
      "xarray 2023.6.0 requires pandas>=1.4, but you have pandas 1.2.5 which is incompatible.\u001b[0m\u001b[31m\n",
      "\u001b[0m"
     ]
    }
   ],
   "source": [
    "!pip install -q -r requirements.txt"
   ]
  },
  {
   "cell_type": "markdown",
   "id": "1f0c61ae-e8ff-440f-a5c7-7f9fb9e74ba0",
   "metadata": {},
   "source": [
    "## 1. Introduction"
   ]
  },
  {
   "cell_type": "markdown",
   "id": "fc9b0fe1-9467-4b53-9166-5cd064b8c1e1",
   "metadata": {},
   "source": [
    "### Recap - Example Dataset"
   ]
  },
  {
   "cell_type": "markdown",
   "id": "3492763c-f6b9-492c-bd8f-047089c8ec3c",
   "metadata": {},
   "source": [
    "We use an example dataset produced from an MSstats differential abundance analysis.  This dataset is a small molecule dataset with known inhibition targets.  It includes 8 small molecule inhibitors and a control DMSO holdout. \n",
    "\n",
    "We will focus on the dataset for drug PF477736"
   ]
  },
  {
   "cell_type": "code",
   "execution_count": 2,
   "id": "9b84c8d6-faaf-46e2-a190-98a7b17a659c",
   "metadata": {},
   "outputs": [
    {
     "data": {
      "text/html": [
       "<div>\n",
       "<style scoped>\n",
       "    .dataframe tbody tr th:only-of-type {\n",
       "        vertical-align: middle;\n",
       "    }\n",
       "\n",
       "    .dataframe tbody tr th {\n",
       "        vertical-align: top;\n",
       "    }\n",
       "\n",
       "    .dataframe thead th {\n",
       "        text-align: right;\n",
       "    }\n",
       "</style>\n",
       "<table border=\"1\" class=\"dataframe\">\n",
       "  <thead>\n",
       "    <tr style=\"text-align: right;\">\n",
       "      <th></th>\n",
       "      <th>Protein</th>\n",
       "      <th>Label</th>\n",
       "      <th>log2FC</th>\n",
       "      <th>SE</th>\n",
       "      <th>Tvalue</th>\n",
       "      <th>DF</th>\n",
       "      <th>pvalue</th>\n",
       "      <th>adj.pvalue</th>\n",
       "      <th>issue</th>\n",
       "      <th>MissingPercentage</th>\n",
       "      <th>ImputationPercentage</th>\n",
       "    </tr>\n",
       "  </thead>\n",
       "  <tbody>\n",
       "    <tr>\n",
       "      <th>32541</th>\n",
       "      <td>CLH1_HUMAN</td>\n",
       "      <td>DMSO-PF477736</td>\n",
       "      <td>-0.269783556</td>\n",
       "      <td>0.056036</td>\n",
       "      <td>-4.814489</td>\n",
       "      <td>260.0</td>\n",
       "      <td>2.506764e-06</td>\n",
       "      <td>3.094600e-03</td>\n",
       "      <td>NaN</td>\n",
       "      <td>0.143333</td>\n",
       "      <td>0.0</td>\n",
       "    </tr>\n",
       "    <tr>\n",
       "      <th>63546</th>\n",
       "      <td>FCGRN_HUMAN</td>\n",
       "      <td>DMSO-PF477736</td>\n",
       "      <td>-0.674851051</td>\n",
       "      <td>0.132991</td>\n",
       "      <td>-5.074427</td>\n",
       "      <td>179.0</td>\n",
       "      <td>9.674775e-07</td>\n",
       "      <td>1.592468e-03</td>\n",
       "      <td>NaN</td>\n",
       "      <td>0.195918</td>\n",
       "      <td>0.0</td>\n",
       "    </tr>\n",
       "    <tr>\n",
       "      <th>115656</th>\n",
       "      <td>NECP2_HUMAN</td>\n",
       "      <td>DMSO-PF477736</td>\n",
       "      <td>0.693700535</td>\n",
       "      <td>0.097077</td>\n",
       "      <td>7.145875</td>\n",
       "      <td>259.0</td>\n",
       "      <td>9.076739e-12</td>\n",
       "      <td>2.241047e-08</td>\n",
       "      <td>NaN</td>\n",
       "      <td>0.040000</td>\n",
       "      <td>0.0</td>\n",
       "    </tr>\n",
       "    <tr>\n",
       "      <th>152151</th>\n",
       "      <td>RFA1_HUMAN</td>\n",
       "      <td>DMSO-PF477736</td>\n",
       "      <td>-0.60382375</td>\n",
       "      <td>0.076190</td>\n",
       "      <td>-7.925239</td>\n",
       "      <td>260.0</td>\n",
       "      <td>6.705747e-14</td>\n",
       "      <td>3.311298e-10</td>\n",
       "      <td>NaN</td>\n",
       "      <td>0.120667</td>\n",
       "      <td>0.0</td>\n",
       "    </tr>\n",
       "  </tbody>\n",
       "</table>\n",
       "</div>"
      ],
      "text/plain": [
       "            Protein          Label        log2FC        SE    Tvalue     DF  \\\n",
       "32541    CLH1_HUMAN  DMSO-PF477736  -0.269783556  0.056036 -4.814489  260.0   \n",
       "63546   FCGRN_HUMAN  DMSO-PF477736  -0.674851051  0.132991 -5.074427  179.0   \n",
       "115656  NECP2_HUMAN  DMSO-PF477736   0.693700535  0.097077  7.145875  259.0   \n",
       "152151   RFA1_HUMAN  DMSO-PF477736   -0.60382375  0.076190 -7.925239  260.0   \n",
       "\n",
       "              pvalue    adj.pvalue issue  MissingPercentage  \\\n",
       "32541   2.506764e-06  3.094600e-03   NaN           0.143333   \n",
       "63546   9.674775e-07  1.592468e-03   NaN           0.195918   \n",
       "115656  9.076739e-12  2.241047e-08   NaN           0.040000   \n",
       "152151  6.705747e-14  3.311298e-10   NaN           0.120667   \n",
       "\n",
       "        ImputationPercentage  \n",
       "32541                    0.0  \n",
       "63546                    0.0  \n",
       "115656                   0.0  \n",
       "152151                   0.0  "
      ]
     },
     "execution_count": 2,
     "metadata": {},
     "output_type": "execute_result"
    }
   ],
   "source": [
    "import pandas as pd\n",
    "\n",
    "P_VALUE_LOGFC_PATH = \"groupComparisonOutput.csv\" # Set this path yourself\n",
    "LABELS_FILTER = [\"DMSO-PF477736\"]\n",
    "P_VALUE_FILTER = 0.05 # Adjust this yourself\n",
    "\n",
    "def construct_pvalue_logfc_df(filename):\n",
    "    \"\"\"Return a filtered data frame from the given data file.\"\"\"\n",
    "    pandas_df = pd.read_csv(filename)\n",
    "    pandas_df = pandas_df[pandas_df['issue'].isnull()]\n",
    "    pandas_df = pandas_df[pandas_df['adj.pvalue'] < P_VALUE_FILTER]\n",
    "    pandas_df = pandas_df[pandas_df['Label'].isin(LABELS_FILTER)]\n",
    "    return pandas_df\n",
    "\n",
    "pvalue_logfc_df = construct_pvalue_logfc_df(P_VALUE_LOGFC_PATH)\n",
    "pvalue_logfc_df"
   ]
  },
  {
   "cell_type": "markdown",
   "id": "29f2614c-4f3d-4acb-abd3-dd377a177b3e",
   "metadata": {},
   "source": [
    "### Experimental Factors:\n",
    "| Treatment    | Target |\n",
    "| :-------- | :------- |\n",
    "| DMSO  | Control    |\n",
    "| VTP50469  | MEN1    |\n",
    "| PF477736 | Chk1    |\n",
    "| Jakafi    | JAK1/2    |\n",
    "| K-975  | TEAD1   |\n",
    "| VE-821 | ATR    |\n",
    "| dBET6    | BRD2/3/4   |\n",
    "\n",
    "\n",
    "Our next goal is to demonstrate how we can pull pathway data from a pathway database. For instance, we could take one of the drugs or one of the proteins in our dataset, and query PathwayCommons for its neighborhood."
   ]
  },
  {
   "cell_type": "markdown",
   "id": "3472fe7f-026d-4494-b1ed-19de76d48fb4",
   "metadata": {},
   "source": [
    "## 2. How can we query pathway data from a pathway database?"
   ]
  },
  {
   "cell_type": "markdown",
   "id": "ed70f148-6d76-4167-ad89-ca71f2c48501",
   "metadata": {},
   "source": [
    "PyBioPAX implements the BioPAX level 3 object model (http://www.biopax.org/release/biopax-level3-documentation.pdf) as a set of Python classes. It exposes API functions to read OWL files into this object model, and to dump OWL files from this object model. This allows for the processing and creation of BioPAX models natively in Python.\n",
    "\n",
    "Gyori BM, Hoyt CT (2022). PyBioPAX: biological pathway exchange in Python. Journal of Open Source Software, 7(71), 4136, https://doi.org/10.21105/joss.04136"
   ]
  },
  {
   "cell_type": "code",
   "execution_count": 2,
   "id": "b2e4e173-2b11-42fc-a9b1-9c82260dda17",
   "metadata": {},
   "outputs": [],
   "source": [
    "import pybiopax"
   ]
  },
  {
   "cell_type": "markdown",
   "id": "65bff165-c32c-434c-bff4-47c3a67fc04b",
   "metadata": {},
   "source": [
    "We can query for the neighborhood around CHEK1 stored in pathway commons.  We should expect that the small molecule associated with CHEK1 should be in the neighborhood."
   ]
  },
  {
   "cell_type": "code",
   "execution_count": 6,
   "id": "624dbfdb-7bf4-48fa-a7fc-35cc61270cf0",
   "metadata": {},
   "outputs": [
    {
     "data": {
      "application/vnd.jupyter.widget-view+json": {
       "model_id": "bffe901387cd4a1482c4ee89f046e848",
       "version_major": 2,
       "version_minor": 0
      },
      "text/plain": [
       "Processing OWL elements:   0%|          | 0.00/127k [00:00<?, ?it/s]"
      ]
     },
     "metadata": {},
     "output_type": "display_data"
    }
   ],
   "source": [
    "model = pybiopax.model_from_pc_query('neighborhood', ['CHEK1'])"
   ]
  },
  {
   "cell_type": "code",
   "execution_count": 7,
   "id": "fedda558-f021-4437-8ba7-7e9e364240d7",
   "metadata": {},
   "outputs": [
    {
     "data": {
      "text/plain": [
       "SmallMolecule(PF 00477736)"
      ]
     },
     "execution_count": 7,
     "metadata": {},
     "output_type": "execute_result"
    }
   ],
   "source": [
    "model.objects.get('SmallMolecule_ddc4ef4f078db1f02d605c5fe94003b9')"
   ]
  },
  {
   "cell_type": "markdown",
   "id": "eb4a7521-1e0a-4d9b-98e5-2cb5159077f2",
   "metadata": {},
   "source": [
    "We can query for biological entities that are in pathways from CHEK1 and CLTC.  We choose CLTC since it is a differentially abundant protein for the PF 00477736 experiment"
   ]
  },
  {
   "cell_type": "code",
   "execution_count": 11,
   "id": "1780e25b-b1e4-4ff0-8d01-65462796f9c7",
   "metadata": {},
   "outputs": [
    {
     "data": {
      "application/vnd.jupyter.widget-view+json": {
       "model_id": "5acf29346db94eeaa27fe13a3851a917",
       "version_major": 2,
       "version_minor": 0
      },
      "text/plain": [
       "Processing OWL elements:   0%|          | 0.00/3.82k [00:00<?, ?it/s]"
      ]
     },
     "metadata": {},
     "output_type": "display_data"
    },
    {
     "data": {
      "text/plain": [
       "3816"
      ]
     },
     "execution_count": 11,
     "metadata": {},
     "output_type": "execute_result"
    }
   ],
   "source": [
    "model = pybiopax.model_from_pc_query('pathsfromto', ['CHEK1'], target=['CLTC'], limit=6)\n",
    "len(model.objects)"
   ]
  }
 ],
 "metadata": {
  "kernelspec": {
   "display_name": "venv2",
   "language": "python",
   "name": "venv2"
  },
  "language_info": {
   "codemirror_mode": {
    "name": "ipython",
    "version": 3
   },
   "file_extension": ".py",
   "mimetype": "text/x-python",
   "name": "python",
   "nbconvert_exporter": "python",
   "pygments_lexer": "ipython3",
   "version": "3.11.7"
  }
 },
 "nbformat": 4,
 "nbformat_minor": 5
}
